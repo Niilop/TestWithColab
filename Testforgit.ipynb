{
  "nbformat": 4,
  "nbformat_minor": 0,
  "metadata": {
    "colab": {
      "provenance": [],
      "authorship_tag": "ABX9TyOcd7hrhSv4hEreWWc15jWC",
      "include_colab_link": true
    },
    "kernelspec": {
      "name": "python3",
      "display_name": "Python 3"
    },
    "language_info": {
      "name": "python"
    }
  },
  "cells": [
    {
      "cell_type": "markdown",
      "metadata": {
        "id": "view-in-github",
        "colab_type": "text"
      },
      "source": [
        "<a href=\"https://colab.research.google.com/github/Niilop/TestWithColab/blob/main/Testforgit.ipynb\" target=\"_parent\"><img src=\"https://colab.research.google.com/assets/colab-badge.svg\" alt=\"Open In Colab\"/></a>"
      ]
    },
    {
      "cell_type": "markdown",
      "source": [
        "Just trying to see what it looks like to push this file from colab to Github!"
      ],
      "metadata": {
        "id": "V6DjIbTq4j1S"
      }
    },
    {
      "cell_type": "code",
      "execution_count": null,
      "metadata": {
        "id": "uwqs7FZp4bHI"
      },
      "outputs": [],
      "source": [
        "Print(\"this is a test!\")"
      ]
    },
    {
      "cell_type": "markdown",
      "source": [
        ":)"
      ],
      "metadata": {
        "id": "1PV3j9Ki4pIx"
      }
    }
  ]
}