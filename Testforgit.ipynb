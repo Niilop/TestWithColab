{
  "nbformat": 4,
  "nbformat_minor": 0,
  "metadata": {
    "colab": {
      "provenance": [],
      "authorship_tag": "ABX9TyOvSq7uIKDJqc3DlWTVTmo4",
      "include_colab_link": true
    },
    "kernelspec": {
      "name": "python3",
      "display_name": "Python 3"
    },
    "language_info": {
      "name": "python"
    }
  },
  "cells": [
    {
      "cell_type": "markdown",
      "metadata": {
        "id": "view-in-github",
        "colab_type": "text"
      },
      "source": [
        "<a href=\"https://colab.research.google.com/github/Niilop/TestWithColab/blob/main/Testforgit.ipynb\" target=\"_parent\"><img src=\"https://colab.research.google.com/assets/colab-badge.svg\" alt=\"Open In Colab\"/></a>"
      ]
    },
    {
      "cell_type": "markdown",
      "source": [
        "Just trying to see what it looks like to push this file from colab to Github!"
      ],
      "metadata": {
        "id": "V6DjIbTq4j1S"
      }
    },
    {
      "cell_type": "code",
      "execution_count": 1,
      "metadata": {
        "id": "uwqs7FZp4bHI",
        "colab": {
          "base_uri": "https://localhost:8080/"
        },
        "outputId": "7bf4917f-e01f-4181-d17a-d0ebbc3e52eb"
      },
      "outputs": [
        {
          "output_type": "stream",
          "name": "stdout",
          "text": [
            "this is a test!\n"
          ]
        }
      ],
      "source": [
        "print(\"this is a test!\")"
      ]
    },
    {
      "cell_type": "markdown",
      "source": [
        ":)"
      ],
      "metadata": {
        "id": "1PV3j9Ki4pIx"
      }
    },
    {
      "cell_type": "code",
      "source": [
        "print(\"added this line\")"
      ],
      "metadata": {
        "colab": {
          "base_uri": "https://localhost:8080/"
        },
        "id": "fkiN5EJs6WKS",
        "outputId": "a15d6adc-d32e-45d9-d247-ebe0b7b595b4"
      },
      "execution_count": 2,
      "outputs": [
        {
          "output_type": "stream",
          "name": "stdout",
          "text": [
            "added this line\n"
          ]
        }
      ]
    },
    {
      "cell_type": "markdown",
      "source": [
        "asfjsalkfjalksfjakslflaj"
      ],
      "metadata": {
        "id": "pK5XAfrN6nrJ"
      }
    }
  ]
}